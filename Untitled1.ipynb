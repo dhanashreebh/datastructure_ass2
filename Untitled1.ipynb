{
  "nbformat": 4,
  "nbformat_minor": 0,
  "metadata": {
    "colab": {
      "provenance": []
    },
    "kernelspec": {
      "name": "python3",
      "display_name": "Python 3"
    },
    "language_info": {
      "name": "python"
    }
  },
  "cells": [
    {
      "cell_type": "code",
      "execution_count": 1,
      "metadata": {
        "colab": {
          "base_uri": "https://localhost:8080/"
        },
        "id": "GqAqY2TttV6N",
        "outputId": "4ae9c328-d352-4804-ac31-598853e3aa6a"
      },
      "outputs": [
        {
          "output_type": "execute_result",
          "data": {
            "text/plain": [
              "4"
            ]
          },
          "metadata": {},
          "execution_count": 1
        }
      ],
      "source": [
        "import numpy as np\n",
        "np.random.randint(1,5)"
      ]
    },
    {
      "cell_type": "markdown",
      "source": [
        "which is the great book"
      ],
      "metadata": {
        "id": "mg6xmNhUti9k"
      }
    },
    {
      "cell_type": "code",
      "source": [],
      "metadata": {
        "id": "HzbOMJGTtedW"
      },
      "execution_count": null,
      "outputs": []
    }
  ]
}